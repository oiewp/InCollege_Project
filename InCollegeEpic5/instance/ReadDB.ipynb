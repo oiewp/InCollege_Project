{
 "cells": [
  {
   "cell_type": "code",
   "execution_count": 2,
   "metadata": {},
   "outputs": [],
   "source": [
    "import sqlite3\n"
   ]
  },
  {
   "cell_type": "code",
   "execution_count": 3,
   "metadata": {},
   "outputs": [
    {
     "name": "stdout",
     "output_type": "stream",
     "text": [
      "this is the table name user\n",
      "this is the table name job\n",
      "this is the table name friend\n"
     ]
    }
   ],
   "source": [
    "connection  = sqlite3.connect(\"database.db\")\n",
    "\n",
    "# Create a cursor object\n",
    "cursor = connection.cursor()\n",
    "\n",
    "# Query to get the names of all tables in the database\n",
    "query = \"SELECT name FROM sqlite_master WHERE type='table';\"\n",
    "\n",
    "# Execute the query\n",
    "cursor.execute(query)\n",
    "\n",
    "# Fetch all results\n",
    "tables = cursor.fetchall()\n",
    "\n",
    "# Iterate over the list of tables and print each table name\n",
    "for table in tables:\n",
    "    print('this is the table name', table[0])\n",
    "\n",
    "# Close the cursor and connection\n",
    "cursor.close()\n",
    "connection.close()\n"
   ]
  },
  {
   "cell_type": "code",
   "execution_count": 30,
   "metadata": {},
   "outputs": [],
   "source": [
    "connection = sqlite3.connect('database.db')\n",
    "cursor = connection.cursor()\n",
    "cursor.execute('SELECT * FROM Job')\n",
    "rows = cursor.fetchall()\n",
    "\n",
    "for row in rows:\n",
    "    print(row)\n"
   ]
  },
  {
   "cell_type": "code",
   "execution_count": 32,
   "metadata": {},
   "outputs": [
    {
     "name": "stdout",
     "output_type": "stream",
     "text": [
      "(1, 'toanvo234', 'Password135@', 'Toan', 'Vo', 1, 1, 1, 'English')\n",
      "(2, 'john', 'Password135@', 'John', 'lol', 1, 1, 1, 'English')\n"
     ]
    }
   ],
   "source": [
    "connection = sqlite3.connect('database.db')\n",
    "cursor = connection.cursor()\n",
    "cursor.execute('SELECT * FROM user')\n",
    "rows = cursor.fetchall()\n",
    "\n",
    "for row in rows:\n",
    "    print(row)\n",
    "\n"
   ]
  },
  {
   "cell_type": "code",
   "execution_count": 6,
   "metadata": {},
   "outputs": [
    {
     "name": "stdout",
     "output_type": "stream",
     "text": [
      "('toanvo234', 'john', 'pending')\n"
     ]
    }
   ],
   "source": [
    "# read the Friend database\n",
    "connection = sqlite3.connect('database.db')\n",
    "cursor = connection.cursor()\n",
    "cursor.execute('SELECT * FROM Friend')\n",
    "rows = cursor.fetchall()\n",
    "\n",
    "for row in rows:\n",
    "    print(row)\n",
    "\n",
    "# read the Address database"
   ]
  },
  {
   "cell_type": "code",
   "execution_count": 6,
   "metadata": {},
   "outputs": [
    {
     "name": "stdout",
     "output_type": "stream",
     "text": [
      "Column names: ['id', 'title', 'description', 'employer', 'location', 'salary', 'accountName']\n"
     ]
    }
   ],
   "source": [
    "cursor.execute(\"PRAGMA table_info(job);\")\n",
    "\n",
    "# Fetch all results\n",
    "columns_info = cursor.fetchall()\n",
    "\n",
    "# Extract column names from the PRAGMA command result\n",
    "column_names = [column[1] for column in columns_info]\n",
    "\n",
    "print(\"Column names:\", column_names)\n"
   ]
  },
  {
   "cell_type": "code",
   "execution_count": 33,
   "metadata": {},
   "outputs": [
    {
     "name": "stdout",
     "output_type": "stream",
     "text": [
      "Column names: ['id', 'accountName', 'password', 'fname', 'lname', 'email_option', 'sms_option', 'advertising_option', 'language']\n"
     ]
    }
   ],
   "source": [
    "# get all column names in the user table\n",
    "cursor.execute(\"PRAGMA table_info(user);\")\n",
    "\n",
    "# Fetch all results\n",
    "columns_info = cursor.fetchall()\n",
    "\n",
    "# Extract column names from the PRAGMA command result\n",
    "column_names = [column[1] for column in columns_info]\n",
    "\n",
    "print(\"Column names:\", column_names)\n"
   ]
  },
  {
   "cell_type": "code",
   "execution_count": 21,
   "metadata": {},
   "outputs": [],
   "source": [
    "# drop table Job\n",
    "\n",
    "connection = sqlite3.connect('database.db')\n",
    "cursor = connection.cursor()\n",
    "cursor.execute('DROP TABLE Job')\n",
    "rows = cursor.fetchall()\n",
    "\n",
    "\n",
    "\n"
   ]
  },
  {
   "cell_type": "code",
   "execution_count": 18,
   "metadata": {},
   "outputs": [
    {
     "name": "stdout",
     "output_type": "stream",
     "text": [
      "[]\n"
     ]
    }
   ],
   "source": [
    "# add new rows to the table called Friend, with the following values:\n",
    "# user: 'Dennis', friend: 'John', status: 'accepted'\n",
    "# user: 'Dennis', friend: 'Peter', status: 'accepted'\n",
    "# user: 'Dennis', friend: 'Susan', status 'pending'\n",
    "\n",
    "connection = sqlite3.connect('database.db')\n",
    "cursor = connection.cursor()\n",
    "cursor.execute('INSERT INTO friend VALUES (\"dennis\", \"toan\", \"accepted\")')\n",
    "cursor.execute('INSERT INTO friend VALUES (\"dennis\", \"john\", \"accepted\")')\n",
    "cursor.execute('INSERT INTO friend VALUES (\"dennis\", \"susan\", \"pending\")')\n",
    "rows = cursor.fetchall()\n",
    "print(rows)\n"
   ]
  },
  {
   "cell_type": "code",
   "execution_count": 4,
   "metadata": {},
   "outputs": [
    {
     "name": "stdout",
     "output_type": "stream",
     "text": [
      "(1, 'toanvo234', 'Password135@', 'Toan', 'Vo', 1, 1, 1, 'English')\n",
      "(2, 'john', 'Password135@', 'John', 'lol', 1, 1, 1, 'English')\n"
     ]
    }
   ],
   "source": [
    "# fetch all rows from the table called User\n",
    "connection = sqlite3.connect('database.db')\n",
    "cursor = connection.cursor()\n",
    "cursor.execute('SELECT * FROM user')\n",
    "rows = cursor.fetchall()\n",
    "for row in rows:\n",
    "    print(row)"
   ]
  },
  {
   "cell_type": "code",
   "execution_count": 48,
   "metadata": {},
   "outputs": [
    {
     "name": "stdout",
     "output_type": "stream",
     "text": [
      "('lili', 'toanvo234', 'pending')\n"
     ]
    }
   ],
   "source": [
    "# fetch from the table called Friend\n",
    "connection = sqlite3.connect('database.db')\n",
    "cursor = connection.cursor()\n",
    "cursor.execute('SELECT * FROM friend')\n",
    "rows = cursor.fetchall()\n",
    "for row in rows:\n",
    "    print(row) "
   ]
  },
  {
   "cell_type": "code",
   "execution_count": 5,
   "metadata": {},
   "outputs": [
    {
     "ename": "OperationalError",
     "evalue": "no such column: user",
     "output_type": "error",
     "traceback": [
      "\u001b[1;31m---------------------------------------------------------------------------\u001b[0m",
      "\u001b[1;31mOperationalError\u001b[0m                          Traceback (most recent call last)",
      "Cell \u001b[1;32mIn[5], line 4\u001b[0m\n\u001b[0;32m      2\u001b[0m connection \u001b[38;5;241m=\u001b[39m sqlite3\u001b[38;5;241m.\u001b[39mconnect(\u001b[38;5;124m'\u001b[39m\u001b[38;5;124mdatabase.db\u001b[39m\u001b[38;5;124m'\u001b[39m)\n\u001b[0;32m      3\u001b[0m cursor \u001b[38;5;241m=\u001b[39m connection\u001b[38;5;241m.\u001b[39mcursor()\n\u001b[1;32m----> 4\u001b[0m \u001b[43mcursor\u001b[49m\u001b[38;5;241;43m.\u001b[39;49m\u001b[43mexecute\u001b[49m\u001b[43m(\u001b[49m\u001b[38;5;124;43m'\u001b[39;49m\u001b[38;5;124;43mINSERT INTO friend SELECT user, \u001b[39;49m\u001b[38;5;124;43m\"\u001b[39;49m\u001b[38;5;124;43mtoan\u001b[39;49m\u001b[38;5;124;43m\"\u001b[39;49m\u001b[38;5;124;43m, \u001b[39;49m\u001b[38;5;124;43m\"\u001b[39;49m\u001b[38;5;124;43mpending\u001b[39;49m\u001b[38;5;124;43m\"\u001b[39;49m\u001b[38;5;124;43m FROM user WHERE user != \u001b[39;49m\u001b[38;5;124;43m\"\u001b[39;49m\u001b[38;5;124;43mtoan\u001b[39;49m\u001b[38;5;124;43m\"\u001b[39;49m\u001b[38;5;124;43m'\u001b[39;49m\u001b[43m)\u001b[49m\n\u001b[0;32m      5\u001b[0m rows \u001b[38;5;241m=\u001b[39m cursor\u001b[38;5;241m.\u001b[39mfetchall()\n\u001b[0;32m      6\u001b[0m \u001b[38;5;28mprint\u001b[39m(rows)\n",
      "\u001b[1;31mOperationalError\u001b[0m: no such column: user"
     ]
    }
   ],
   "source": [
    "# make toan everyone's friend\n",
    "connection = sqlite3.connect('database.db')\n",
    "cursor = connection.cursor()\n",
    "cursor.execute('INSERT INTO friend SELECT user, \"toan\", \"pending\" FROM user WHERE user != \"toan\"')\n",
    "rows = cursor.fetchall()\n",
    "print(rows)\n",
    "\n",
    "# fetch from the table called Friend\n",
    "connection = sqlite3.connect('database.db')\n",
    "cursor = connection.cursor()\n",
    "cursor.execute('SELECT * FROM friend')\n",
    "rows = cursor.fetchall()\n",
    "for row in rows:\n",
    "    print(row)\n",
    "\n",
    "    "
   ]
  },
  {
   "cell_type": "code",
   "execution_count": 29,
   "metadata": {},
   "outputs": [
    {
     "name": "stdout",
     "output_type": "stream",
     "text": [
      "Column names: ['user', 'friend', 'status']\n"
     ]
    }
   ],
   "source": [
    "# get all column of the table called Friend\n",
    "connection = sqlite3.connect('database.db')\n",
    "cursor = connection.cursor()\n",
    "cursor.execute(\"PRAGMA table_info(friend);\")\n",
    "columns_info = cursor.fetchall()\n",
    "column_names = [column[1] for column in columns_info]\n",
    "print(\"Column names:\", column_names)\n"
   ]
  },
  {
   "cell_type": "code",
   "execution_count": 41,
   "metadata": {},
   "outputs": [],
   "source": [
    "# get all rows from the table called Friend\n",
    "connection = sqlite3.connect('database.db')\n",
    "cursor = connection.cursor()\n",
    "cursor.execute('SELECT * FROM friend')\n",
    "rows = cursor.fetchall()\n",
    "for row in rows:\n",
    "    print(row)\n",
    "\n"
   ]
  },
  {
   "cell_type": "code",
   "execution_count": 26,
   "metadata": {},
   "outputs": [],
   "source": [
    "# find row in the table called Friend where the user is toanvo234\n",
    "connection = sqlite3.connect('database.db')\n",
    "cursor = connection.cursor()\n",
    "cursor.execute('SELECT * FROM friend WHERE user = \"toanvo234\"')\n",
    "rows = cursor.fetchall()\n",
    "for row in rows:\n",
    "    print(row)"
   ]
  },
  {
   "cell_type": "code",
   "execution_count": 36,
   "metadata": {},
   "outputs": [],
   "source": [
    "# change the status of the friendship between john and toanvo234 to 'pending'\n",
    "\n",
    "connection = sqlite3.connect('database.db')\n",
    "cursor = connection.cursor()\n",
    "cursor.execute('UPDATE friend SET status = \"pending\" WHERE user = \"toanvo234\"')\n",
    "\n",
    "# commit the changes\n",
    "connection.commit()\n"
   ]
  },
  {
   "cell_type": "code",
   "execution_count": 43,
   "metadata": {},
   "outputs": [],
   "source": [
    "# delete the row in the table called Friend where the user is john\n",
    "connection = sqlite3.connect('database.db')\n",
    "cursor = connection.cursor()\n",
    "cursor.execute('DELETE FROM friend WHERE user = \"john\"')\n",
    "\n",
    "\n",
    "\n",
    "# commit the changes\n",
    "connection.commit()\n",
    "\n"
   ]
  },
  {
   "cell_type": "code",
   "execution_count": 44,
   "metadata": {},
   "outputs": [],
   "source": [
    "# delete the row in the table called Friend where the user is toanvo234\n",
    "connection = sqlite3.connect('database.db')\n",
    "cursor = connection.cursor()\n",
    "cursor.execute('DELETE FROM friend WHERE user = \"toanvo234\"')\n",
    "\n",
    "# commit the changes\n",
    "connection.commit()"
   ]
  },
  {
   "cell_type": "code",
   "execution_count": 27,
   "metadata": {},
   "outputs": [],
   "source": [
    "# disconnect from the database\n",
    "connection.close()\n"
   ]
  },
  {
   "cell_type": "code",
   "execution_count": null,
   "metadata": {},
   "outputs": [],
   "source": []
  }
 ],
 "metadata": {
  "kernelspec": {
   "display_name": "Python 3",
   "language": "python",
   "name": "python3"
  },
  "language_info": {
   "codemirror_mode": {
    "name": "ipython",
    "version": 3
   },
   "file_extension": ".py",
   "mimetype": "text/x-python",
   "name": "python",
   "nbconvert_exporter": "python",
   "pygments_lexer": "ipython3",
   "version": "3.10.11"
  }
 },
 "nbformat": 4,
 "nbformat_minor": 2
}
